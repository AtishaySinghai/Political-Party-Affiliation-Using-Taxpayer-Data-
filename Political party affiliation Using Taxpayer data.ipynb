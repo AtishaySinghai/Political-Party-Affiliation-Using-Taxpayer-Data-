{
  "nbformat": 4,
  "nbformat_minor": 0,
  "metadata": {
    "colab": {
      "name": "Datathon challenge .ipynb",
      "provenance": [],
      "collapsed_sections": []
    },
    "kernelspec": {
      "name": "python3",
      "display_name": "Python 3"
    },
    "language_info": {
      "name": "python"
    }
  },
  "cells": [
    {
      "cell_type": "code",
      "execution_count": null,
      "metadata": {
        "id": "qnoioq0v0lJk"
      },
      "outputs": [],
      "source": [
        "import pandas as pd\n",
        "\n",
        "tax_data = pd.read_csv(\"https://raw.githubusercontent.com/dphi-official/Datasets/master/tax_payers/train_set_label.csv\" )"
      ]
    },
    {
      "cell_type": "code",
      "source": [
        "tax_data.head()"
      ],
      "metadata": {
        "colab": {
          "base_uri": "https://localhost:8080/",
          "height": 169
        },
        "id": "f5OcH_LE0w4T",
        "outputId": "0426f9cc-1797-4f9a-ca6d-f85c47a5b298"
      },
      "execution_count": null,
      "outputs": [
        {
          "output_type": "error",
          "ename": "NameError",
          "evalue": "ignored",
          "traceback": [
            "\u001b[0;31m---------------------------------------------------------------------------\u001b[0m",
            "\u001b[0;31mNameError\u001b[0m                                 Traceback (most recent call last)",
            "\u001b[0;32m<ipython-input-1-a8058893d295>\u001b[0m in \u001b[0;36m<module>\u001b[0;34m()\u001b[0m\n\u001b[0;32m----> 1\u001b[0;31m \u001b[0mtax_data\u001b[0m\u001b[0;34m.\u001b[0m\u001b[0mhead\u001b[0m\u001b[0;34m(\u001b[0m\u001b[0;34m)\u001b[0m\u001b[0;34m\u001b[0m\u001b[0;34m\u001b[0m\u001b[0m\n\u001b[0m",
            "\u001b[0;31mNameError\u001b[0m: name 'tax_data' is not defined"
          ]
        }
      ]
    },
    {
      "cell_type": "code",
      "source": [
        "tax_data.info()"
      ],
      "metadata": {
        "id": "Uyfafv_F02Cl",
        "colab": {
          "base_uri": "https://localhost:8080/",
          "height": 169
        },
        "outputId": "4ec79527-2039-4d42-f1b9-8f2124fa3112"
      },
      "execution_count": null,
      "outputs": [
        {
          "output_type": "error",
          "ename": "NameError",
          "evalue": "ignored",
          "traceback": [
            "\u001b[0;31m---------------------------------------------------------------------------\u001b[0m",
            "\u001b[0;31mNameError\u001b[0m                                 Traceback (most recent call last)",
            "\u001b[0;32m<ipython-input-3-d006b6d69e20>\u001b[0m in \u001b[0;36m<module>\u001b[0;34m()\u001b[0m\n\u001b[0;32m----> 1\u001b[0;31m \u001b[0mtax_data\u001b[0m\u001b[0;34m.\u001b[0m\u001b[0minfo\u001b[0m\u001b[0;34m(\u001b[0m\u001b[0;34m)\u001b[0m\u001b[0;34m\u001b[0m\u001b[0;34m\u001b[0m\u001b[0m\n\u001b[0m",
            "\u001b[0;31mNameError\u001b[0m: name 'tax_data' is not defined"
          ]
        }
      ]
    },
    {
      "cell_type": "markdown",
      "source": [
        "No missing values.\n",
        "Married, Filed in 2017, Filed in 2016 and Filed in 2015 are categorical variables.\n"
      ],
      "metadata": {
        "id": "bSNll6y01KL0"
      }
    },
    {
      "cell_type": "code",
      "source": [
        "# Convert the four variables mentioned into categorical variables\n",
        "tax_data[\"Married\"] = tax_data.Married.astype(\"object\")\n",
        "tax_data[\"Filed in 2017\"] = tax_data[\"Filed in 2017\"].astype(\"object\")\n",
        "tax_data[\"Filed in 2016\"] = tax_data[\"Filed in 2016\"].astype(\"object\")\n",
        "tax_data[\"Filed in 2015\"] = tax_data[\"Filed in 2015\"].astype(\"object\")"
      ],
      "metadata": {
        "id": "mmr95TNc1MDW"
      },
      "execution_count": null,
      "outputs": []
    },
    {
      "cell_type": "code",
      "source": [
        "tax_data.info()"
      ],
      "metadata": {
        "colab": {
          "base_uri": "https://localhost:8080/"
        },
        "id": "zXm_2xko1P10",
        "outputId": "17b7d605-652f-4233-cfed-0aad8e64b0d1"
      },
      "execution_count": null,
      "outputs": [
        {
          "output_type": "stream",
          "name": "stdout",
          "text": [
            "<class 'pandas.core.frame.DataFrame'>\n",
            "RangeIndex: 803 entries, 0 to 802\n",
            "Data columns (total 11 columns):\n",
            " #   Column          Non-Null Count  Dtype \n",
            "---  ------          --------------  ----- \n",
            " 0   Unnamed: 0      803 non-null    int64 \n",
            " 1   HHI             803 non-null    int64 \n",
            " 2   HHDL            803 non-null    int64 \n",
            " 3   Married         803 non-null    object\n",
            " 4   CollegGrads     803 non-null    int64 \n",
            " 5   AHHAge          803 non-null    int64 \n",
            " 6   Cars            803 non-null    int64 \n",
            " 7   Filed in 2017   803 non-null    object\n",
            " 8   Filed in 2016   803 non-null    object\n",
            " 9   Filed in 2015   803 non-null    object\n",
            " 10  PoliticalParty  803 non-null    object\n",
            "dtypes: int64(6), object(5)\n",
            "memory usage: 69.1+ KB\n"
          ]
        }
      ]
    },
    {
      "cell_type": "code",
      "source": [
        "# Create dummy variables for categorical variables\n",
        "tax_data_new = pd.get_dummies(tax_data, columns = [\"Married\", \"Filed in 2017\", \"Filed in 2016\", \"Filed in 2015\"])\n",
        "tax_data_new.head()"
      ],
      "metadata": {
        "colab": {
          "base_uri": "https://localhost:8080/",
          "height": 305
        },
        "id": "S7JosrF81WpO",
        "outputId": "abad759b-1002-4758-85a5-bfea422d1eb6"
      },
      "execution_count": null,
      "outputs": [
        {
          "output_type": "execute_result",
          "data": {
            "text/plain": [
              "   Unnamed: 0     HHI    HHDL  CollegGrads  AHHAge  Cars PoliticalParty  \\\n",
              "0          61  183414  -12402            2      28     1       Democrat   \n",
              "1         501  129786  700251            5      63     3     Republican   \n",
              "2         658  268343  493411            4      44     1    Independent   \n",
              "3         703  290506 -433408            1      28     5     Republican   \n",
              "4         702   90108  907135            3      57     5       Democrat   \n",
              "\n",
              "   Married_0  Married_1  Married_2  Filed in 2017_0  Filed in 2017_1  \\\n",
              "0          0          1          0                1                0   \n",
              "1          0          0          1                1                0   \n",
              "2          0          0          1                0                1   \n",
              "3          0          1          0                0                1   \n",
              "4          0          1          0                0                1   \n",
              "\n",
              "   Filed in 2016_0  Filed in 2016_1  Filed in 2015_0  Filed in 2015_1  \n",
              "0                1                0                0                1  \n",
              "1                1                0                1                0  \n",
              "2                1                0                0                1  \n",
              "3                1                0                0                1  \n",
              "4                0                1                1                0  "
            ],
            "text/html": [
              "\n",
              "  <div id=\"df-df4717b4-0a75-4688-a77f-c192ff918381\">\n",
              "    <div class=\"colab-df-container\">\n",
              "      <div>\n",
              "<style scoped>\n",
              "    .dataframe tbody tr th:only-of-type {\n",
              "        vertical-align: middle;\n",
              "    }\n",
              "\n",
              "    .dataframe tbody tr th {\n",
              "        vertical-align: top;\n",
              "    }\n",
              "\n",
              "    .dataframe thead th {\n",
              "        text-align: right;\n",
              "    }\n",
              "</style>\n",
              "<table border=\"1\" class=\"dataframe\">\n",
              "  <thead>\n",
              "    <tr style=\"text-align: right;\">\n",
              "      <th></th>\n",
              "      <th>Unnamed: 0</th>\n",
              "      <th>HHI</th>\n",
              "      <th>HHDL</th>\n",
              "      <th>CollegGrads</th>\n",
              "      <th>AHHAge</th>\n",
              "      <th>Cars</th>\n",
              "      <th>PoliticalParty</th>\n",
              "      <th>Married_0</th>\n",
              "      <th>Married_1</th>\n",
              "      <th>Married_2</th>\n",
              "      <th>Filed in 2017_0</th>\n",
              "      <th>Filed in 2017_1</th>\n",
              "      <th>Filed in 2016_0</th>\n",
              "      <th>Filed in 2016_1</th>\n",
              "      <th>Filed in 2015_0</th>\n",
              "      <th>Filed in 2015_1</th>\n",
              "    </tr>\n",
              "  </thead>\n",
              "  <tbody>\n",
              "    <tr>\n",
              "      <th>0</th>\n",
              "      <td>61</td>\n",
              "      <td>183414</td>\n",
              "      <td>-12402</td>\n",
              "      <td>2</td>\n",
              "      <td>28</td>\n",
              "      <td>1</td>\n",
              "      <td>Democrat</td>\n",
              "      <td>0</td>\n",
              "      <td>1</td>\n",
              "      <td>0</td>\n",
              "      <td>1</td>\n",
              "      <td>0</td>\n",
              "      <td>1</td>\n",
              "      <td>0</td>\n",
              "      <td>0</td>\n",
              "      <td>1</td>\n",
              "    </tr>\n",
              "    <tr>\n",
              "      <th>1</th>\n",
              "      <td>501</td>\n",
              "      <td>129786</td>\n",
              "      <td>700251</td>\n",
              "      <td>5</td>\n",
              "      <td>63</td>\n",
              "      <td>3</td>\n",
              "      <td>Republican</td>\n",
              "      <td>0</td>\n",
              "      <td>0</td>\n",
              "      <td>1</td>\n",
              "      <td>1</td>\n",
              "      <td>0</td>\n",
              "      <td>1</td>\n",
              "      <td>0</td>\n",
              "      <td>1</td>\n",
              "      <td>0</td>\n",
              "    </tr>\n",
              "    <tr>\n",
              "      <th>2</th>\n",
              "      <td>658</td>\n",
              "      <td>268343</td>\n",
              "      <td>493411</td>\n",
              "      <td>4</td>\n",
              "      <td>44</td>\n",
              "      <td>1</td>\n",
              "      <td>Independent</td>\n",
              "      <td>0</td>\n",
              "      <td>0</td>\n",
              "      <td>1</td>\n",
              "      <td>0</td>\n",
              "      <td>1</td>\n",
              "      <td>1</td>\n",
              "      <td>0</td>\n",
              "      <td>0</td>\n",
              "      <td>1</td>\n",
              "    </tr>\n",
              "    <tr>\n",
              "      <th>3</th>\n",
              "      <td>703</td>\n",
              "      <td>290506</td>\n",
              "      <td>-433408</td>\n",
              "      <td>1</td>\n",
              "      <td>28</td>\n",
              "      <td>5</td>\n",
              "      <td>Republican</td>\n",
              "      <td>0</td>\n",
              "      <td>1</td>\n",
              "      <td>0</td>\n",
              "      <td>0</td>\n",
              "      <td>1</td>\n",
              "      <td>1</td>\n",
              "      <td>0</td>\n",
              "      <td>0</td>\n",
              "      <td>1</td>\n",
              "    </tr>\n",
              "    <tr>\n",
              "      <th>4</th>\n",
              "      <td>702</td>\n",
              "      <td>90108</td>\n",
              "      <td>907135</td>\n",
              "      <td>3</td>\n",
              "      <td>57</td>\n",
              "      <td>5</td>\n",
              "      <td>Democrat</td>\n",
              "      <td>0</td>\n",
              "      <td>1</td>\n",
              "      <td>0</td>\n",
              "      <td>0</td>\n",
              "      <td>1</td>\n",
              "      <td>0</td>\n",
              "      <td>1</td>\n",
              "      <td>1</td>\n",
              "      <td>0</td>\n",
              "    </tr>\n",
              "  </tbody>\n",
              "</table>\n",
              "</div>\n",
              "      <button class=\"colab-df-convert\" onclick=\"convertToInteractive('df-df4717b4-0a75-4688-a77f-c192ff918381')\"\n",
              "              title=\"Convert this dataframe to an interactive table.\"\n",
              "              style=\"display:none;\">\n",
              "        \n",
              "  <svg xmlns=\"http://www.w3.org/2000/svg\" height=\"24px\"viewBox=\"0 0 24 24\"\n",
              "       width=\"24px\">\n",
              "    <path d=\"M0 0h24v24H0V0z\" fill=\"none\"/>\n",
              "    <path d=\"M18.56 5.44l.94 2.06.94-2.06 2.06-.94-2.06-.94-.94-2.06-.94 2.06-2.06.94zm-11 1L8.5 8.5l.94-2.06 2.06-.94-2.06-.94L8.5 2.5l-.94 2.06-2.06.94zm10 10l.94 2.06.94-2.06 2.06-.94-2.06-.94-.94-2.06-.94 2.06-2.06.94z\"/><path d=\"M17.41 7.96l-1.37-1.37c-.4-.4-.92-.59-1.43-.59-.52 0-1.04.2-1.43.59L10.3 9.45l-7.72 7.72c-.78.78-.78 2.05 0 2.83L4 21.41c.39.39.9.59 1.41.59.51 0 1.02-.2 1.41-.59l7.78-7.78 2.81-2.81c.8-.78.8-2.07 0-2.86zM5.41 20L4 18.59l7.72-7.72 1.47 1.35L5.41 20z\"/>\n",
              "  </svg>\n",
              "      </button>\n",
              "      \n",
              "  <style>\n",
              "    .colab-df-container {\n",
              "      display:flex;\n",
              "      flex-wrap:wrap;\n",
              "      gap: 12px;\n",
              "    }\n",
              "\n",
              "    .colab-df-convert {\n",
              "      background-color: #E8F0FE;\n",
              "      border: none;\n",
              "      border-radius: 50%;\n",
              "      cursor: pointer;\n",
              "      display: none;\n",
              "      fill: #1967D2;\n",
              "      height: 32px;\n",
              "      padding: 0 0 0 0;\n",
              "      width: 32px;\n",
              "    }\n",
              "\n",
              "    .colab-df-convert:hover {\n",
              "      background-color: #E2EBFA;\n",
              "      box-shadow: 0px 1px 2px rgba(60, 64, 67, 0.3), 0px 1px 3px 1px rgba(60, 64, 67, 0.15);\n",
              "      fill: #174EA6;\n",
              "    }\n",
              "\n",
              "    [theme=dark] .colab-df-convert {\n",
              "      background-color: #3B4455;\n",
              "      fill: #D2E3FC;\n",
              "    }\n",
              "\n",
              "    [theme=dark] .colab-df-convert:hover {\n",
              "      background-color: #434B5C;\n",
              "      box-shadow: 0px 1px 3px 1px rgba(0, 0, 0, 0.15);\n",
              "      filter: drop-shadow(0px 1px 2px rgba(0, 0, 0, 0.3));\n",
              "      fill: #FFFFFF;\n",
              "    }\n",
              "  </style>\n",
              "\n",
              "      <script>\n",
              "        const buttonEl =\n",
              "          document.querySelector('#df-df4717b4-0a75-4688-a77f-c192ff918381 button.colab-df-convert');\n",
              "        buttonEl.style.display =\n",
              "          google.colab.kernel.accessAllowed ? 'block' : 'none';\n",
              "\n",
              "        async function convertToInteractive(key) {\n",
              "          const element = document.querySelector('#df-df4717b4-0a75-4688-a77f-c192ff918381');\n",
              "          const dataTable =\n",
              "            await google.colab.kernel.invokeFunction('convertToInteractive',\n",
              "                                                     [key], {});\n",
              "          if (!dataTable) return;\n",
              "\n",
              "          const docLinkHtml = 'Like what you see? Visit the ' +\n",
              "            '<a target=\"_blank\" href=https://colab.research.google.com/notebooks/data_table.ipynb>data table notebook</a>'\n",
              "            + ' to learn more about interactive tables.';\n",
              "          element.innerHTML = '';\n",
              "          dataTable['output_type'] = 'display_data';\n",
              "          await google.colab.output.renderOutput(dataTable, element);\n",
              "          const docLink = document.createElement('div');\n",
              "          docLink.innerHTML = docLinkHtml;\n",
              "          element.appendChild(docLink);\n",
              "        }\n",
              "      </script>\n",
              "    </div>\n",
              "  </div>\n",
              "  "
            ]
          },
          "metadata": {},
          "execution_count": 7
        }
      ]
    },
    {
      "cell_type": "code",
      "source": [
        "# Descriptive Statistics:\n",
        "tax_data_new.describe()"
      ],
      "metadata": {
        "colab": {
          "base_uri": "https://localhost:8080/",
          "height": 382
        },
        "id": "0gcXBkFu1b8S",
        "outputId": "78e75bbb-e96b-4e7f-c588-5327862266f0"
      },
      "execution_count": null,
      "outputs": [
        {
          "output_type": "execute_result",
          "data": {
            "text/plain": [
              "        Unnamed: 0            HHI           HHDL  CollegGrads      AHHAge  \\\n",
              "count   803.000000     803.000000     803.000000   803.000000  803.000000   \n",
              "mean    502.241594  155402.688667  -15351.252802     2.607721   60.559153   \n",
              "std     288.460068   86788.153213  595184.302049     1.675492   25.071219   \n",
              "min       1.000000     185.000000 -999994.000000     0.000000   18.000000   \n",
              "25%     254.500000   82373.000000 -516765.000000     1.000000   38.000000   \n",
              "50%     501.000000  156542.000000  -24440.000000     3.000000   60.000000   \n",
              "75%     754.500000  230772.000000  518135.500000     4.000000   82.000000   \n",
              "max    1004.000000  299374.000000  999628.000000     5.000000  105.000000   \n",
              "\n",
              "             Cars   Married_0   Married_1   Married_2  Filed in 2017_0  \\\n",
              "count  803.000000  803.000000  803.000000  803.000000       803.000000   \n",
              "mean     2.435866    0.337484    0.353674    0.308842         0.493151   \n",
              "std      1.703542    0.473146    0.478407    0.462304         0.500265   \n",
              "min      0.000000    0.000000    0.000000    0.000000         0.000000   \n",
              "25%      1.000000    0.000000    0.000000    0.000000         0.000000   \n",
              "50%      2.000000    0.000000    0.000000    0.000000         0.000000   \n",
              "75%      4.000000    1.000000    1.000000    1.000000         1.000000   \n",
              "max      5.000000    1.000000    1.000000    1.000000         1.000000   \n",
              "\n",
              "       Filed in 2017_1  Filed in 2016_0  Filed in 2016_1  Filed in 2015_0  \\\n",
              "count       803.000000       803.000000       803.000000       803.000000   \n",
              "mean          0.506849         0.490660         0.509340         0.483188   \n",
              "std           0.500265         0.500224         0.500224         0.500029   \n",
              "min           0.000000         0.000000         0.000000         0.000000   \n",
              "25%           0.000000         0.000000         0.000000         0.000000   \n",
              "50%           1.000000         0.000000         1.000000         0.000000   \n",
              "75%           1.000000         1.000000         1.000000         1.000000   \n",
              "max           1.000000         1.000000         1.000000         1.000000   \n",
              "\n",
              "       Filed in 2015_1  \n",
              "count       803.000000  \n",
              "mean          0.516812  \n",
              "std           0.500029  \n",
              "min           0.000000  \n",
              "25%           0.000000  \n",
              "50%           1.000000  \n",
              "75%           1.000000  \n",
              "max           1.000000  "
            ],
            "text/html": [
              "\n",
              "  <div id=\"df-68be18c3-ff03-4a24-9726-681bd52a0546\">\n",
              "    <div class=\"colab-df-container\">\n",
              "      <div>\n",
              "<style scoped>\n",
              "    .dataframe tbody tr th:only-of-type {\n",
              "        vertical-align: middle;\n",
              "    }\n",
              "\n",
              "    .dataframe tbody tr th {\n",
              "        vertical-align: top;\n",
              "    }\n",
              "\n",
              "    .dataframe thead th {\n",
              "        text-align: right;\n",
              "    }\n",
              "</style>\n",
              "<table border=\"1\" class=\"dataframe\">\n",
              "  <thead>\n",
              "    <tr style=\"text-align: right;\">\n",
              "      <th></th>\n",
              "      <th>Unnamed: 0</th>\n",
              "      <th>HHI</th>\n",
              "      <th>HHDL</th>\n",
              "      <th>CollegGrads</th>\n",
              "      <th>AHHAge</th>\n",
              "      <th>Cars</th>\n",
              "      <th>Married_0</th>\n",
              "      <th>Married_1</th>\n",
              "      <th>Married_2</th>\n",
              "      <th>Filed in 2017_0</th>\n",
              "      <th>Filed in 2017_1</th>\n",
              "      <th>Filed in 2016_0</th>\n",
              "      <th>Filed in 2016_1</th>\n",
              "      <th>Filed in 2015_0</th>\n",
              "      <th>Filed in 2015_1</th>\n",
              "    </tr>\n",
              "  </thead>\n",
              "  <tbody>\n",
              "    <tr>\n",
              "      <th>count</th>\n",
              "      <td>803.000000</td>\n",
              "      <td>803.000000</td>\n",
              "      <td>803.000000</td>\n",
              "      <td>803.000000</td>\n",
              "      <td>803.000000</td>\n",
              "      <td>803.000000</td>\n",
              "      <td>803.000000</td>\n",
              "      <td>803.000000</td>\n",
              "      <td>803.000000</td>\n",
              "      <td>803.000000</td>\n",
              "      <td>803.000000</td>\n",
              "      <td>803.000000</td>\n",
              "      <td>803.000000</td>\n",
              "      <td>803.000000</td>\n",
              "      <td>803.000000</td>\n",
              "    </tr>\n",
              "    <tr>\n",
              "      <th>mean</th>\n",
              "      <td>502.241594</td>\n",
              "      <td>155402.688667</td>\n",
              "      <td>-15351.252802</td>\n",
              "      <td>2.607721</td>\n",
              "      <td>60.559153</td>\n",
              "      <td>2.435866</td>\n",
              "      <td>0.337484</td>\n",
              "      <td>0.353674</td>\n",
              "      <td>0.308842</td>\n",
              "      <td>0.493151</td>\n",
              "      <td>0.506849</td>\n",
              "      <td>0.490660</td>\n",
              "      <td>0.509340</td>\n",
              "      <td>0.483188</td>\n",
              "      <td>0.516812</td>\n",
              "    </tr>\n",
              "    <tr>\n",
              "      <th>std</th>\n",
              "      <td>288.460068</td>\n",
              "      <td>86788.153213</td>\n",
              "      <td>595184.302049</td>\n",
              "      <td>1.675492</td>\n",
              "      <td>25.071219</td>\n",
              "      <td>1.703542</td>\n",
              "      <td>0.473146</td>\n",
              "      <td>0.478407</td>\n",
              "      <td>0.462304</td>\n",
              "      <td>0.500265</td>\n",
              "      <td>0.500265</td>\n",
              "      <td>0.500224</td>\n",
              "      <td>0.500224</td>\n",
              "      <td>0.500029</td>\n",
              "      <td>0.500029</td>\n",
              "    </tr>\n",
              "    <tr>\n",
              "      <th>min</th>\n",
              "      <td>1.000000</td>\n",
              "      <td>185.000000</td>\n",
              "      <td>-999994.000000</td>\n",
              "      <td>0.000000</td>\n",
              "      <td>18.000000</td>\n",
              "      <td>0.000000</td>\n",
              "      <td>0.000000</td>\n",
              "      <td>0.000000</td>\n",
              "      <td>0.000000</td>\n",
              "      <td>0.000000</td>\n",
              "      <td>0.000000</td>\n",
              "      <td>0.000000</td>\n",
              "      <td>0.000000</td>\n",
              "      <td>0.000000</td>\n",
              "      <td>0.000000</td>\n",
              "    </tr>\n",
              "    <tr>\n",
              "      <th>25%</th>\n",
              "      <td>254.500000</td>\n",
              "      <td>82373.000000</td>\n",
              "      <td>-516765.000000</td>\n",
              "      <td>1.000000</td>\n",
              "      <td>38.000000</td>\n",
              "      <td>1.000000</td>\n",
              "      <td>0.000000</td>\n",
              "      <td>0.000000</td>\n",
              "      <td>0.000000</td>\n",
              "      <td>0.000000</td>\n",
              "      <td>0.000000</td>\n",
              "      <td>0.000000</td>\n",
              "      <td>0.000000</td>\n",
              "      <td>0.000000</td>\n",
              "      <td>0.000000</td>\n",
              "    </tr>\n",
              "    <tr>\n",
              "      <th>50%</th>\n",
              "      <td>501.000000</td>\n",
              "      <td>156542.000000</td>\n",
              "      <td>-24440.000000</td>\n",
              "      <td>3.000000</td>\n",
              "      <td>60.000000</td>\n",
              "      <td>2.000000</td>\n",
              "      <td>0.000000</td>\n",
              "      <td>0.000000</td>\n",
              "      <td>0.000000</td>\n",
              "      <td>0.000000</td>\n",
              "      <td>1.000000</td>\n",
              "      <td>0.000000</td>\n",
              "      <td>1.000000</td>\n",
              "      <td>0.000000</td>\n",
              "      <td>1.000000</td>\n",
              "    </tr>\n",
              "    <tr>\n",
              "      <th>75%</th>\n",
              "      <td>754.500000</td>\n",
              "      <td>230772.000000</td>\n",
              "      <td>518135.500000</td>\n",
              "      <td>4.000000</td>\n",
              "      <td>82.000000</td>\n",
              "      <td>4.000000</td>\n",
              "      <td>1.000000</td>\n",
              "      <td>1.000000</td>\n",
              "      <td>1.000000</td>\n",
              "      <td>1.000000</td>\n",
              "      <td>1.000000</td>\n",
              "      <td>1.000000</td>\n",
              "      <td>1.000000</td>\n",
              "      <td>1.000000</td>\n",
              "      <td>1.000000</td>\n",
              "    </tr>\n",
              "    <tr>\n",
              "      <th>max</th>\n",
              "      <td>1004.000000</td>\n",
              "      <td>299374.000000</td>\n",
              "      <td>999628.000000</td>\n",
              "      <td>5.000000</td>\n",
              "      <td>105.000000</td>\n",
              "      <td>5.000000</td>\n",
              "      <td>1.000000</td>\n",
              "      <td>1.000000</td>\n",
              "      <td>1.000000</td>\n",
              "      <td>1.000000</td>\n",
              "      <td>1.000000</td>\n",
              "      <td>1.000000</td>\n",
              "      <td>1.000000</td>\n",
              "      <td>1.000000</td>\n",
              "      <td>1.000000</td>\n",
              "    </tr>\n",
              "  </tbody>\n",
              "</table>\n",
              "</div>\n",
              "      <button class=\"colab-df-convert\" onclick=\"convertToInteractive('df-68be18c3-ff03-4a24-9726-681bd52a0546')\"\n",
              "              title=\"Convert this dataframe to an interactive table.\"\n",
              "              style=\"display:none;\">\n",
              "        \n",
              "  <svg xmlns=\"http://www.w3.org/2000/svg\" height=\"24px\"viewBox=\"0 0 24 24\"\n",
              "       width=\"24px\">\n",
              "    <path d=\"M0 0h24v24H0V0z\" fill=\"none\"/>\n",
              "    <path d=\"M18.56 5.44l.94 2.06.94-2.06 2.06-.94-2.06-.94-.94-2.06-.94 2.06-2.06.94zm-11 1L8.5 8.5l.94-2.06 2.06-.94-2.06-.94L8.5 2.5l-.94 2.06-2.06.94zm10 10l.94 2.06.94-2.06 2.06-.94-2.06-.94-.94-2.06-.94 2.06-2.06.94z\"/><path d=\"M17.41 7.96l-1.37-1.37c-.4-.4-.92-.59-1.43-.59-.52 0-1.04.2-1.43.59L10.3 9.45l-7.72 7.72c-.78.78-.78 2.05 0 2.83L4 21.41c.39.39.9.59 1.41.59.51 0 1.02-.2 1.41-.59l7.78-7.78 2.81-2.81c.8-.78.8-2.07 0-2.86zM5.41 20L4 18.59l7.72-7.72 1.47 1.35L5.41 20z\"/>\n",
              "  </svg>\n",
              "      </button>\n",
              "      \n",
              "  <style>\n",
              "    .colab-df-container {\n",
              "      display:flex;\n",
              "      flex-wrap:wrap;\n",
              "      gap: 12px;\n",
              "    }\n",
              "\n",
              "    .colab-df-convert {\n",
              "      background-color: #E8F0FE;\n",
              "      border: none;\n",
              "      border-radius: 50%;\n",
              "      cursor: pointer;\n",
              "      display: none;\n",
              "      fill: #1967D2;\n",
              "      height: 32px;\n",
              "      padding: 0 0 0 0;\n",
              "      width: 32px;\n",
              "    }\n",
              "\n",
              "    .colab-df-convert:hover {\n",
              "      background-color: #E2EBFA;\n",
              "      box-shadow: 0px 1px 2px rgba(60, 64, 67, 0.3), 0px 1px 3px 1px rgba(60, 64, 67, 0.15);\n",
              "      fill: #174EA6;\n",
              "    }\n",
              "\n",
              "    [theme=dark] .colab-df-convert {\n",
              "      background-color: #3B4455;\n",
              "      fill: #D2E3FC;\n",
              "    }\n",
              "\n",
              "    [theme=dark] .colab-df-convert:hover {\n",
              "      background-color: #434B5C;\n",
              "      box-shadow: 0px 1px 3px 1px rgba(0, 0, 0, 0.15);\n",
              "      filter: drop-shadow(0px 1px 2px rgba(0, 0, 0, 0.3));\n",
              "      fill: #FFFFFF;\n",
              "    }\n",
              "  </style>\n",
              "\n",
              "      <script>\n",
              "        const buttonEl =\n",
              "          document.querySelector('#df-68be18c3-ff03-4a24-9726-681bd52a0546 button.colab-df-convert');\n",
              "        buttonEl.style.display =\n",
              "          google.colab.kernel.accessAllowed ? 'block' : 'none';\n",
              "\n",
              "        async function convertToInteractive(key) {\n",
              "          const element = document.querySelector('#df-68be18c3-ff03-4a24-9726-681bd52a0546');\n",
              "          const dataTable =\n",
              "            await google.colab.kernel.invokeFunction('convertToInteractive',\n",
              "                                                     [key], {});\n",
              "          if (!dataTable) return;\n",
              "\n",
              "          const docLinkHtml = 'Like what you see? Visit the ' +\n",
              "            '<a target=\"_blank\" href=https://colab.research.google.com/notebooks/data_table.ipynb>data table notebook</a>'\n",
              "            + ' to learn more about interactive tables.';\n",
              "          element.innerHTML = '';\n",
              "          dataTable['output_type'] = 'display_data';\n",
              "          await google.colab.output.renderOutput(dataTable, element);\n",
              "          const docLink = document.createElement('div');\n",
              "          docLink.innerHTML = docLinkHtml;\n",
              "          element.appendChild(docLink);\n",
              "        }\n",
              "      </script>\n",
              "    </div>\n",
              "  </div>\n",
              "  "
            ]
          },
          "metadata": {},
          "execution_count": 8
        }
      ]
    },
    {
      "cell_type": "code",
      "source": [
        "# Split the independent and dependent variables\n",
        "X = tax_data_new.drop([\"Unnamed: 0\", \"PoliticalParty\"], axis = 1)\n",
        "y = tax_data_new[[\"PoliticalParty\"]]"
      ],
      "metadata": {
        "id": "JSfpaQJ91g8m"
      },
      "execution_count": null,
      "outputs": []
    },
    {
      "cell_type": "code",
      "source": [
        "# Split into training and testing data set\n",
        "from sklearn.model_selection import train_test_split\n",
        "\n",
        "X_train, X_test, y_train, y_test = train_test_split(X, y, test_size = 0.2, random_state = 2)\n",
        "\n",
        "print(\"Shape of original data:\", tax_data_new.shape)\n",
        "print(\"Shape of training data:\", X_train.shape)\n",
        "print(\"Shape of testing data:\", X_test.shape)"
      ],
      "metadata": {
        "colab": {
          "base_uri": "https://localhost:8080/"
        },
        "id": "PA_8vOqp1ntr",
        "outputId": "ac45a0bf-8e30-4c3f-9437-33f6a18a6d45"
      },
      "execution_count": null,
      "outputs": [
        {
          "output_type": "stream",
          "name": "stdout",
          "text": [
            "Shape of original data: (803, 16)\n",
            "Shape of training data: (642, 14)\n",
            "Shape of testing data: (161, 14)\n"
          ]
        }
      ]
    },
    {
      "cell_type": "code",
      "source": [
        "# Create logistic regression model\n",
        "from sklearn.linear_model import LogisticRegression\n",
        "\n",
        "lr = LogisticRegression(random_state = 2)\n",
        "lr.fit(X_train, y_train)\n",
        "preds_lr = lr.predict(X_test)"
      ],
      "metadata": {
        "colab": {
          "base_uri": "https://localhost:8080/"
        },
        "id": "NQU5eLZ94Kp8",
        "outputId": "7557f93d-38fd-4ff9-96c6-70ad2dd67803"
      },
      "execution_count": null,
      "outputs": [
        {
          "output_type": "stream",
          "name": "stderr",
          "text": [
            "/usr/local/lib/python3.7/dist-packages/sklearn/utils/validation.py:993: DataConversionWarning: A column-vector y was passed when a 1d array was expected. Please change the shape of y to (n_samples, ), for example using ravel().\n",
            "  y = column_or_1d(y, warn=True)\n"
          ]
        }
      ]
    },
    {
      "cell_type": "code",
      "source": [
        "# Accuracy score\n",
        "from sklearn.metrics import accuracy_score\n",
        "print(\"Accuracy score:\", accuracy_score(y_test, preds_lr))"
      ],
      "metadata": {
        "colab": {
          "base_uri": "https://localhost:8080/"
        },
        "id": "ypIV4n_t4Qc1",
        "outputId": "618ad44b-3cb5-4bc5-b945-27b95c2b781b"
      },
      "execution_count": null,
      "outputs": [
        {
          "output_type": "stream",
          "name": "stdout",
          "text": [
            "Accuracy score: 0.3167701863354037\n"
          ]
        }
      ]
    },
    {
      "cell_type": "markdown",
      "source": [
        "**Decision tree clasifier**"
      ],
      "metadata": {
        "id": "c6uWwVEq4VhC"
      }
    },
    {
      "cell_type": "code",
      "source": [
        "from sklearn.tree import DecisionTreeClassifier\n",
        "\n",
        "dt = DecisionTreeClassifier(random_state=2)\n",
        "dt.fit(X_train, y_train)\n",
        "preds_dt = dt.predict(X_test)"
      ],
      "metadata": {
        "id": "BKJzQy9F4cGK"
      },
      "execution_count": null,
      "outputs": []
    },
    {
      "cell_type": "code",
      "source": [
        "# Accuracy score\n",
        "print(\"Accuracy score:\", accuracy_score(y_test, preds_dt))"
      ],
      "metadata": {
        "colab": {
          "base_uri": "https://localhost:8080/"
        },
        "id": "1QQgNoDT4iir",
        "outputId": "0095baa0-1c4d-45a1-94f6-76e449c339b5"
      },
      "execution_count": null,
      "outputs": [
        {
          "output_type": "stream",
          "name": "stdout",
          "text": [
            "Accuracy score: 0.33540372670807456\n"
          ]
        }
      ]
    },
    {
      "cell_type": "markdown",
      "source": [
        "**Random Forest**"
      ],
      "metadata": {
        "id": "HdRlDzms4k4r"
      }
    },
    {
      "cell_type": "code",
      "source": [
        "from sklearn.ensemble import RandomForestClassifier\n",
        "\n",
        "rf = RandomForestClassifier(random_state=2)\n",
        "rf.fit(X_train, y_train)\n",
        "preds_rf = rf.predict(X_test)"
      ],
      "metadata": {
        "colab": {
          "base_uri": "https://localhost:8080/"
        },
        "id": "aKFkN1Qt4tLZ",
        "outputId": "bd8c108f-adb1-4657-fe7b-ccfb94df20a2"
      },
      "execution_count": null,
      "outputs": [
        {
          "output_type": "stream",
          "name": "stderr",
          "text": [
            "/usr/local/lib/python3.7/dist-packages/ipykernel_launcher.py:4: DataConversionWarning: A column-vector y was passed when a 1d array was expected. Please change the shape of y to (n_samples,), for example using ravel().\n",
            "  after removing the cwd from sys.path.\n"
          ]
        }
      ]
    },
    {
      "cell_type": "code",
      "source": [
        "# Accuracy score\n",
        "print(\"Accuracy score:\", accuracy_score(y_test, preds_rf))"
      ],
      "metadata": {
        "colab": {
          "base_uri": "https://localhost:8080/"
        },
        "id": "StNomWUM4x8o",
        "outputId": "220d5e06-15bb-45ee-a966-051005d76ad4"
      },
      "execution_count": null,
      "outputs": [
        {
          "output_type": "stream",
          "name": "stdout",
          "text": [
            "Accuracy score: 0.43478260869565216\n"
          ]
        }
      ]
    },
    {
      "cell_type": "markdown",
      "source": [
        "**Support Vector Machines**\n"
      ],
      "metadata": {
        "id": "Yk2OkbZ8415P"
      }
    },
    {
      "cell_type": "code",
      "source": [
        "from sklearn.svm import SVC\n",
        "\n",
        "svc = SVC(random_state=2)\n",
        "svc.fit(X_train, y_train)\n",
        "preds_svc = svc.predict(X_test)"
      ],
      "metadata": {
        "colab": {
          "base_uri": "https://localhost:8080/"
        },
        "id": "Im1nlxZF47HG",
        "outputId": "0660f6a1-8547-4269-cb87-6552e79fce64"
      },
      "execution_count": null,
      "outputs": [
        {
          "output_type": "stream",
          "name": "stderr",
          "text": [
            "/usr/local/lib/python3.7/dist-packages/sklearn/utils/validation.py:993: DataConversionWarning: A column-vector y was passed when a 1d array was expected. Please change the shape of y to (n_samples, ), for example using ravel().\n",
            "  y = column_or_1d(y, warn=True)\n"
          ]
        }
      ]
    },
    {
      "cell_type": "code",
      "source": [
        "# Accuracy score\n",
        "print(\"Accuracy score:\", accuracy_score(y_test, preds_svc))"
      ],
      "metadata": {
        "colab": {
          "base_uri": "https://localhost:8080/"
        },
        "id": "SUzvpLYR5Aof",
        "outputId": "de4449fc-11a1-48d4-828c-5b7357ddee71"
      },
      "execution_count": null,
      "outputs": [
        {
          "output_type": "stream",
          "name": "stdout",
          "text": [
            "Accuracy score: 0.3167701863354037\n"
          ]
        }
      ]
    },
    {
      "cell_type": "markdown",
      "source": [
        "Based on the 4 classification models, Random Forest has the highest accuracy.\n",
        "\n"
      ],
      "metadata": {
        "id": "8lKN9mIt5K4v"
      }
    },
    {
      "cell_type": "markdown",
      "source": [
        "**Test Data**"
      ],
      "metadata": {
        "id": "YtrpusIR5X2t"
      }
    },
    {
      "cell_type": "code",
      "source": [
        "test_data = pd.read_csv('https://raw.githubusercontent.com/dphi-official/Datasets/master/tax_payers/test_set_label.csv')\n",
        "test_data.head()"
      ],
      "metadata": {
        "colab": {
          "base_uri": "https://localhost:8080/",
          "height": 206
        },
        "id": "IVoXvA7U5k5X",
        "outputId": "abf12628-2e9f-4dbd-be9e-743bc7270872"
      },
      "execution_count": null,
      "outputs": [
        {
          "output_type": "execute_result",
          "data": {
            "text/plain": [
              "   Unnamed: 0     HHI    HHDL  Married  CollegGrads  AHHAge  Cars  \\\n",
              "0          17  253274 -633752        2            1      94     3   \n",
              "1         590   47107  322850        0            1      30     2   \n",
              "2         224  111874  300583        0            2      46     3   \n",
              "3         960   96670  107419        0            3      77     5   \n",
              "4          57  128669  341273        0            0      92     4   \n",
              "\n",
              "   Filed in 2017  Filed in 2016  Filed in 2015  \n",
              "0              0              1              1  \n",
              "1              1              1              0  \n",
              "2              0              1              1  \n",
              "3              0              0              0  \n",
              "4              1              1              1  "
            ],
            "text/html": [
              "\n",
              "  <div id=\"df-4fbca0de-4da8-4e2a-8ad7-ff411b648887\">\n",
              "    <div class=\"colab-df-container\">\n",
              "      <div>\n",
              "<style scoped>\n",
              "    .dataframe tbody tr th:only-of-type {\n",
              "        vertical-align: middle;\n",
              "    }\n",
              "\n",
              "    .dataframe tbody tr th {\n",
              "        vertical-align: top;\n",
              "    }\n",
              "\n",
              "    .dataframe thead th {\n",
              "        text-align: right;\n",
              "    }\n",
              "</style>\n",
              "<table border=\"1\" class=\"dataframe\">\n",
              "  <thead>\n",
              "    <tr style=\"text-align: right;\">\n",
              "      <th></th>\n",
              "      <th>Unnamed: 0</th>\n",
              "      <th>HHI</th>\n",
              "      <th>HHDL</th>\n",
              "      <th>Married</th>\n",
              "      <th>CollegGrads</th>\n",
              "      <th>AHHAge</th>\n",
              "      <th>Cars</th>\n",
              "      <th>Filed in 2017</th>\n",
              "      <th>Filed in 2016</th>\n",
              "      <th>Filed in 2015</th>\n",
              "    </tr>\n",
              "  </thead>\n",
              "  <tbody>\n",
              "    <tr>\n",
              "      <th>0</th>\n",
              "      <td>17</td>\n",
              "      <td>253274</td>\n",
              "      <td>-633752</td>\n",
              "      <td>2</td>\n",
              "      <td>1</td>\n",
              "      <td>94</td>\n",
              "      <td>3</td>\n",
              "      <td>0</td>\n",
              "      <td>1</td>\n",
              "      <td>1</td>\n",
              "    </tr>\n",
              "    <tr>\n",
              "      <th>1</th>\n",
              "      <td>590</td>\n",
              "      <td>47107</td>\n",
              "      <td>322850</td>\n",
              "      <td>0</td>\n",
              "      <td>1</td>\n",
              "      <td>30</td>\n",
              "      <td>2</td>\n",
              "      <td>1</td>\n",
              "      <td>1</td>\n",
              "      <td>0</td>\n",
              "    </tr>\n",
              "    <tr>\n",
              "      <th>2</th>\n",
              "      <td>224</td>\n",
              "      <td>111874</td>\n",
              "      <td>300583</td>\n",
              "      <td>0</td>\n",
              "      <td>2</td>\n",
              "      <td>46</td>\n",
              "      <td>3</td>\n",
              "      <td>0</td>\n",
              "      <td>1</td>\n",
              "      <td>1</td>\n",
              "    </tr>\n",
              "    <tr>\n",
              "      <th>3</th>\n",
              "      <td>960</td>\n",
              "      <td>96670</td>\n",
              "      <td>107419</td>\n",
              "      <td>0</td>\n",
              "      <td>3</td>\n",
              "      <td>77</td>\n",
              "      <td>5</td>\n",
              "      <td>0</td>\n",
              "      <td>0</td>\n",
              "      <td>0</td>\n",
              "    </tr>\n",
              "    <tr>\n",
              "      <th>4</th>\n",
              "      <td>57</td>\n",
              "      <td>128669</td>\n",
              "      <td>341273</td>\n",
              "      <td>0</td>\n",
              "      <td>0</td>\n",
              "      <td>92</td>\n",
              "      <td>4</td>\n",
              "      <td>1</td>\n",
              "      <td>1</td>\n",
              "      <td>1</td>\n",
              "    </tr>\n",
              "  </tbody>\n",
              "</table>\n",
              "</div>\n",
              "      <button class=\"colab-df-convert\" onclick=\"convertToInteractive('df-4fbca0de-4da8-4e2a-8ad7-ff411b648887')\"\n",
              "              title=\"Convert this dataframe to an interactive table.\"\n",
              "              style=\"display:none;\">\n",
              "        \n",
              "  <svg xmlns=\"http://www.w3.org/2000/svg\" height=\"24px\"viewBox=\"0 0 24 24\"\n",
              "       width=\"24px\">\n",
              "    <path d=\"M0 0h24v24H0V0z\" fill=\"none\"/>\n",
              "    <path d=\"M18.56 5.44l.94 2.06.94-2.06 2.06-.94-2.06-.94-.94-2.06-.94 2.06-2.06.94zm-11 1L8.5 8.5l.94-2.06 2.06-.94-2.06-.94L8.5 2.5l-.94 2.06-2.06.94zm10 10l.94 2.06.94-2.06 2.06-.94-2.06-.94-.94-2.06-.94 2.06-2.06.94z\"/><path d=\"M17.41 7.96l-1.37-1.37c-.4-.4-.92-.59-1.43-.59-.52 0-1.04.2-1.43.59L10.3 9.45l-7.72 7.72c-.78.78-.78 2.05 0 2.83L4 21.41c.39.39.9.59 1.41.59.51 0 1.02-.2 1.41-.59l7.78-7.78 2.81-2.81c.8-.78.8-2.07 0-2.86zM5.41 20L4 18.59l7.72-7.72 1.47 1.35L5.41 20z\"/>\n",
              "  </svg>\n",
              "      </button>\n",
              "      \n",
              "  <style>\n",
              "    .colab-df-container {\n",
              "      display:flex;\n",
              "      flex-wrap:wrap;\n",
              "      gap: 12px;\n",
              "    }\n",
              "\n",
              "    .colab-df-convert {\n",
              "      background-color: #E8F0FE;\n",
              "      border: none;\n",
              "      border-radius: 50%;\n",
              "      cursor: pointer;\n",
              "      display: none;\n",
              "      fill: #1967D2;\n",
              "      height: 32px;\n",
              "      padding: 0 0 0 0;\n",
              "      width: 32px;\n",
              "    }\n",
              "\n",
              "    .colab-df-convert:hover {\n",
              "      background-color: #E2EBFA;\n",
              "      box-shadow: 0px 1px 2px rgba(60, 64, 67, 0.3), 0px 1px 3px 1px rgba(60, 64, 67, 0.15);\n",
              "      fill: #174EA6;\n",
              "    }\n",
              "\n",
              "    [theme=dark] .colab-df-convert {\n",
              "      background-color: #3B4455;\n",
              "      fill: #D2E3FC;\n",
              "    }\n",
              "\n",
              "    [theme=dark] .colab-df-convert:hover {\n",
              "      background-color: #434B5C;\n",
              "      box-shadow: 0px 1px 3px 1px rgba(0, 0, 0, 0.15);\n",
              "      filter: drop-shadow(0px 1px 2px rgba(0, 0, 0, 0.3));\n",
              "      fill: #FFFFFF;\n",
              "    }\n",
              "  </style>\n",
              "\n",
              "      <script>\n",
              "        const buttonEl =\n",
              "          document.querySelector('#df-4fbca0de-4da8-4e2a-8ad7-ff411b648887 button.colab-df-convert');\n",
              "        buttonEl.style.display =\n",
              "          google.colab.kernel.accessAllowed ? 'block' : 'none';\n",
              "\n",
              "        async function convertToInteractive(key) {\n",
              "          const element = document.querySelector('#df-4fbca0de-4da8-4e2a-8ad7-ff411b648887');\n",
              "          const dataTable =\n",
              "            await google.colab.kernel.invokeFunction('convertToInteractive',\n",
              "                                                     [key], {});\n",
              "          if (!dataTable) return;\n",
              "\n",
              "          const docLinkHtml = 'Like what you see? Visit the ' +\n",
              "            '<a target=\"_blank\" href=https://colab.research.google.com/notebooks/data_table.ipynb>data table notebook</a>'\n",
              "            + ' to learn more about interactive tables.';\n",
              "          element.innerHTML = '';\n",
              "          dataTable['output_type'] = 'display_data';\n",
              "          await google.colab.output.renderOutput(dataTable, element);\n",
              "          const docLink = document.createElement('div');\n",
              "          docLink.innerHTML = docLinkHtml;\n",
              "          element.appendChild(docLink);\n",
              "        }\n",
              "      </script>\n",
              "    </div>\n",
              "  </div>\n",
              "  "
            ]
          },
          "metadata": {},
          "execution_count": 21
        }
      ]
    },
    {
      "cell_type": "code",
      "source": [
        "test_data.info()"
      ],
      "metadata": {
        "colab": {
          "base_uri": "https://localhost:8080/"
        },
        "id": "WJpBpJgf5466",
        "outputId": "ed16940d-cdff-4206-8bc4-5f95e253cffb"
      },
      "execution_count": null,
      "outputs": [
        {
          "output_type": "stream",
          "name": "stdout",
          "text": [
            "<class 'pandas.core.frame.DataFrame'>\n",
            "RangeIndex: 201 entries, 0 to 200\n",
            "Data columns (total 10 columns):\n",
            " #   Column         Non-Null Count  Dtype\n",
            "---  ------         --------------  -----\n",
            " 0   Unnamed: 0     201 non-null    int64\n",
            " 1   HHI            201 non-null    int64\n",
            " 2   HHDL           201 non-null    int64\n",
            " 3   Married        201 non-null    int64\n",
            " 4   CollegGrads    201 non-null    int64\n",
            " 5   AHHAge         201 non-null    int64\n",
            " 6   Cars           201 non-null    int64\n",
            " 7   Filed in 2017  201 non-null    int64\n",
            " 8   Filed in 2016  201 non-null    int64\n",
            " 9   Filed in 2015  201 non-null    int64\n",
            "dtypes: int64(10)\n",
            "memory usage: 15.8 KB\n"
          ]
        }
      ]
    },
    {
      "cell_type": "code",
      "source": [
        "# Convert the four variables mentioned into categorical variables\n",
        "test_data[\"Married\"] = test_data.Married.astype(\"object\")\n",
        "test_data[\"Filed in 2017\"] = test_data[\"Filed in 2017\"].astype(\"object\")\n",
        "test_data[\"Filed in 2016\"] = test_data[\"Filed in 2016\"].astype(\"object\")\n",
        "test_data[\"Filed in 2015\"] = test_data[\"Filed in 2015\"].astype(\"object\")"
      ],
      "metadata": {
        "id": "LEJpIlQz58df"
      },
      "execution_count": null,
      "outputs": []
    },
    {
      "cell_type": "code",
      "source": [
        "test_data_new = pd.get_dummies(test_data, columns = [\"Married\", \"Filed in 2017\", \"Filed in 2016\", \"Filed in 2015\"])\n",
        "test_data_new = test_data_new.drop(\"Unnamed: 0\", axis=1)\n",
        "test_data_new.head()"
      ],
      "metadata": {
        "colab": {
          "base_uri": "https://localhost:8080/",
          "height": 268
        },
        "id": "uDEImd1G59KQ",
        "outputId": "df1bdbd8-f385-4e1f-85a3-ae6ec7384850"
      },
      "execution_count": null,
      "outputs": [
        {
          "output_type": "execute_result",
          "data": {
            "text/plain": [
              "      HHI    HHDL  CollegGrads  AHHAge  Cars  Married_0  Married_1  Married_2  \\\n",
              "0  253274 -633752            1      94     3          0          0          1   \n",
              "1   47107  322850            1      30     2          1          0          0   \n",
              "2  111874  300583            2      46     3          1          0          0   \n",
              "3   96670  107419            3      77     5          1          0          0   \n",
              "4  128669  341273            0      92     4          1          0          0   \n",
              "\n",
              "   Filed in 2017_0  Filed in 2017_1  Filed in 2016_0  Filed in 2016_1  \\\n",
              "0                1                0                0                1   \n",
              "1                0                1                0                1   \n",
              "2                1                0                0                1   \n",
              "3                1                0                1                0   \n",
              "4                0                1                0                1   \n",
              "\n",
              "   Filed in 2015_0  Filed in 2015_1  \n",
              "0                0                1  \n",
              "1                1                0  \n",
              "2                0                1  \n",
              "3                1                0  \n",
              "4                0                1  "
            ],
            "text/html": [
              "\n",
              "  <div id=\"df-f758e350-5548-46a6-9d04-edeeaa5d169c\">\n",
              "    <div class=\"colab-df-container\">\n",
              "      <div>\n",
              "<style scoped>\n",
              "    .dataframe tbody tr th:only-of-type {\n",
              "        vertical-align: middle;\n",
              "    }\n",
              "\n",
              "    .dataframe tbody tr th {\n",
              "        vertical-align: top;\n",
              "    }\n",
              "\n",
              "    .dataframe thead th {\n",
              "        text-align: right;\n",
              "    }\n",
              "</style>\n",
              "<table border=\"1\" class=\"dataframe\">\n",
              "  <thead>\n",
              "    <tr style=\"text-align: right;\">\n",
              "      <th></th>\n",
              "      <th>HHI</th>\n",
              "      <th>HHDL</th>\n",
              "      <th>CollegGrads</th>\n",
              "      <th>AHHAge</th>\n",
              "      <th>Cars</th>\n",
              "      <th>Married_0</th>\n",
              "      <th>Married_1</th>\n",
              "      <th>Married_2</th>\n",
              "      <th>Filed in 2017_0</th>\n",
              "      <th>Filed in 2017_1</th>\n",
              "      <th>Filed in 2016_0</th>\n",
              "      <th>Filed in 2016_1</th>\n",
              "      <th>Filed in 2015_0</th>\n",
              "      <th>Filed in 2015_1</th>\n",
              "    </tr>\n",
              "  </thead>\n",
              "  <tbody>\n",
              "    <tr>\n",
              "      <th>0</th>\n",
              "      <td>253274</td>\n",
              "      <td>-633752</td>\n",
              "      <td>1</td>\n",
              "      <td>94</td>\n",
              "      <td>3</td>\n",
              "      <td>0</td>\n",
              "      <td>0</td>\n",
              "      <td>1</td>\n",
              "      <td>1</td>\n",
              "      <td>0</td>\n",
              "      <td>0</td>\n",
              "      <td>1</td>\n",
              "      <td>0</td>\n",
              "      <td>1</td>\n",
              "    </tr>\n",
              "    <tr>\n",
              "      <th>1</th>\n",
              "      <td>47107</td>\n",
              "      <td>322850</td>\n",
              "      <td>1</td>\n",
              "      <td>30</td>\n",
              "      <td>2</td>\n",
              "      <td>1</td>\n",
              "      <td>0</td>\n",
              "      <td>0</td>\n",
              "      <td>0</td>\n",
              "      <td>1</td>\n",
              "      <td>0</td>\n",
              "      <td>1</td>\n",
              "      <td>1</td>\n",
              "      <td>0</td>\n",
              "    </tr>\n",
              "    <tr>\n",
              "      <th>2</th>\n",
              "      <td>111874</td>\n",
              "      <td>300583</td>\n",
              "      <td>2</td>\n",
              "      <td>46</td>\n",
              "      <td>3</td>\n",
              "      <td>1</td>\n",
              "      <td>0</td>\n",
              "      <td>0</td>\n",
              "      <td>1</td>\n",
              "      <td>0</td>\n",
              "      <td>0</td>\n",
              "      <td>1</td>\n",
              "      <td>0</td>\n",
              "      <td>1</td>\n",
              "    </tr>\n",
              "    <tr>\n",
              "      <th>3</th>\n",
              "      <td>96670</td>\n",
              "      <td>107419</td>\n",
              "      <td>3</td>\n",
              "      <td>77</td>\n",
              "      <td>5</td>\n",
              "      <td>1</td>\n",
              "      <td>0</td>\n",
              "      <td>0</td>\n",
              "      <td>1</td>\n",
              "      <td>0</td>\n",
              "      <td>1</td>\n",
              "      <td>0</td>\n",
              "      <td>1</td>\n",
              "      <td>0</td>\n",
              "    </tr>\n",
              "    <tr>\n",
              "      <th>4</th>\n",
              "      <td>128669</td>\n",
              "      <td>341273</td>\n",
              "      <td>0</td>\n",
              "      <td>92</td>\n",
              "      <td>4</td>\n",
              "      <td>1</td>\n",
              "      <td>0</td>\n",
              "      <td>0</td>\n",
              "      <td>0</td>\n",
              "      <td>1</td>\n",
              "      <td>0</td>\n",
              "      <td>1</td>\n",
              "      <td>0</td>\n",
              "      <td>1</td>\n",
              "    </tr>\n",
              "  </tbody>\n",
              "</table>\n",
              "</div>\n",
              "      <button class=\"colab-df-convert\" onclick=\"convertToInteractive('df-f758e350-5548-46a6-9d04-edeeaa5d169c')\"\n",
              "              title=\"Convert this dataframe to an interactive table.\"\n",
              "              style=\"display:none;\">\n",
              "        \n",
              "  <svg xmlns=\"http://www.w3.org/2000/svg\" height=\"24px\"viewBox=\"0 0 24 24\"\n",
              "       width=\"24px\">\n",
              "    <path d=\"M0 0h24v24H0V0z\" fill=\"none\"/>\n",
              "    <path d=\"M18.56 5.44l.94 2.06.94-2.06 2.06-.94-2.06-.94-.94-2.06-.94 2.06-2.06.94zm-11 1L8.5 8.5l.94-2.06 2.06-.94-2.06-.94L8.5 2.5l-.94 2.06-2.06.94zm10 10l.94 2.06.94-2.06 2.06-.94-2.06-.94-.94-2.06-.94 2.06-2.06.94z\"/><path d=\"M17.41 7.96l-1.37-1.37c-.4-.4-.92-.59-1.43-.59-.52 0-1.04.2-1.43.59L10.3 9.45l-7.72 7.72c-.78.78-.78 2.05 0 2.83L4 21.41c.39.39.9.59 1.41.59.51 0 1.02-.2 1.41-.59l7.78-7.78 2.81-2.81c.8-.78.8-2.07 0-2.86zM5.41 20L4 18.59l7.72-7.72 1.47 1.35L5.41 20z\"/>\n",
              "  </svg>\n",
              "      </button>\n",
              "      \n",
              "  <style>\n",
              "    .colab-df-container {\n",
              "      display:flex;\n",
              "      flex-wrap:wrap;\n",
              "      gap: 12px;\n",
              "    }\n",
              "\n",
              "    .colab-df-convert {\n",
              "      background-color: #E8F0FE;\n",
              "      border: none;\n",
              "      border-radius: 50%;\n",
              "      cursor: pointer;\n",
              "      display: none;\n",
              "      fill: #1967D2;\n",
              "      height: 32px;\n",
              "      padding: 0 0 0 0;\n",
              "      width: 32px;\n",
              "    }\n",
              "\n",
              "    .colab-df-convert:hover {\n",
              "      background-color: #E2EBFA;\n",
              "      box-shadow: 0px 1px 2px rgba(60, 64, 67, 0.3), 0px 1px 3px 1px rgba(60, 64, 67, 0.15);\n",
              "      fill: #174EA6;\n",
              "    }\n",
              "\n",
              "    [theme=dark] .colab-df-convert {\n",
              "      background-color: #3B4455;\n",
              "      fill: #D2E3FC;\n",
              "    }\n",
              "\n",
              "    [theme=dark] .colab-df-convert:hover {\n",
              "      background-color: #434B5C;\n",
              "      box-shadow: 0px 1px 3px 1px rgba(0, 0, 0, 0.15);\n",
              "      filter: drop-shadow(0px 1px 2px rgba(0, 0, 0, 0.3));\n",
              "      fill: #FFFFFF;\n",
              "    }\n",
              "  </style>\n",
              "\n",
              "      <script>\n",
              "        const buttonEl =\n",
              "          document.querySelector('#df-f758e350-5548-46a6-9d04-edeeaa5d169c button.colab-df-convert');\n",
              "        buttonEl.style.display =\n",
              "          google.colab.kernel.accessAllowed ? 'block' : 'none';\n",
              "\n",
              "        async function convertToInteractive(key) {\n",
              "          const element = document.querySelector('#df-f758e350-5548-46a6-9d04-edeeaa5d169c');\n",
              "          const dataTable =\n",
              "            await google.colab.kernel.invokeFunction('convertToInteractive',\n",
              "                                                     [key], {});\n",
              "          if (!dataTable) return;\n",
              "\n",
              "          const docLinkHtml = 'Like what you see? Visit the ' +\n",
              "            '<a target=\"_blank\" href=https://colab.research.google.com/notebooks/data_table.ipynb>data table notebook</a>'\n",
              "            + ' to learn more about interactive tables.';\n",
              "          element.innerHTML = '';\n",
              "          dataTable['output_type'] = 'display_data';\n",
              "          await google.colab.output.renderOutput(dataTable, element);\n",
              "          const docLink = document.createElement('div');\n",
              "          docLink.innerHTML = docLinkHtml;\n",
              "          element.appendChild(docLink);\n",
              "        }\n",
              "      </script>\n",
              "    </div>\n",
              "  </div>\n",
              "  "
            ]
          },
          "metadata": {},
          "execution_count": 26
        }
      ]
    },
    {
      "cell_type": "code",
      "source": [
        "target = rf.predict(test_data_new)\n",
        "res = pd.DataFrame(target)\n",
        "res.index = test_data_new.index\n",
        "res.columns = [\"prediction\"]\n",
        "res.to_csv(\"prediction_results.csv\", index = False)"
      ],
      "metadata": {
        "id": "s4iR8jvT6Akw"
      },
      "execution_count": null,
      "outputs": []
    }
  ]
}